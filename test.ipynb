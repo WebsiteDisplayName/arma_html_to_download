{
 "cells": [
  {
   "cell_type": "code",
   "execution_count": 2,
   "metadata": {},
   "outputs": [
    {
     "name": "stdout",
     "output_type": "stream",
     "text": [
      "https://steamcommunity.com/sharedfiles/filedetails/?id=2856748990\n",
      "https://steamcommunity.com/sharedfiles/filedetails/?id=2807439043\n",
      "https://steamcommunity.com/sharedfiles/filedetails/?id=2789660353\n",
      "https://steamcommunity.com/sharedfiles/filedetails/?id=450814997\n",
      "https://steamcommunity.com/sharedfiles/filedetails/?id=463939057\n",
      "https://steamcommunity.com/sharedfiles/filedetails/?id=2291129343\n",
      "https://steamcommunity.com/sharedfiles/filedetails/?id=1940589429\n",
      "https://steamcommunity.com/sharedfiles/filedetails/?id=894678801\n",
      "https://steamcommunity.com/sharedfiles/filedetails/?id=333310405\n",
      "https://steamcommunity.com/sharedfiles/filedetails/?id=1779063631\n",
      "https://steamcommunity.com/sharedfiles/filedetails/?id=769440155\n",
      "https://steamcommunity.com/sharedfiles/filedetails/?id=2058554822\n",
      "https://steamcommunity.com/sharedfiles/filedetails/?id=2215872933\n",
      "https://steamcommunity.com/sharedfiles/filedetails/?id=623475643\n",
      "https://steamcommunity.com/sharedfiles/filedetails/?id=897295039\n",
      "https://steamcommunity.com/sharedfiles/filedetails/?id=1638341685\n",
      "https://steamcommunity.com/sharedfiles/filedetails/?id=2513044572\n",
      "https://steamcommunity.com/sharedfiles/filedetails/?id=2244165431\n",
      "https://steamcommunity.com/sharedfiles/filedetails/?id=2332457910\n",
      "https://steamcommunity.com/sharedfiles/filedetails/?id=2020940806\n",
      "https://steamcommunity.com/sharedfiles/filedetails/?id=1858075458\n",
      "https://steamcommunity.com/sharedfiles/filedetails/?id=1858070328\n",
      "https://steamcommunity.com/sharedfiles/filedetails/?id=1808238502\n",
      "https://steamcommunity.com/sharedfiles/filedetails/?id=1862208264\n",
      "https://steamcommunity.com/sharedfiles/filedetails/?id=2323185592\n",
      "https://steamcommunity.com/sharedfiles/filedetails/?id=2624532448\n",
      "https://steamcommunity.com/sharedfiles/filedetails/?id=632435682\n",
      "https://steamcommunity.com/sharedfiles/filedetails/?id=2034363662\n",
      "https://steamcommunity.com/sharedfiles/filedetails/?id=338988835\n",
      "https://steamcommunity.com/sharedfiles/filedetails/?id=2387297579\n",
      "https://steamcommunity.com/sharedfiles/filedetails/?id=1251859358\n",
      "https://steamcommunity.com/sharedfiles/filedetails/?id=2447965207\n",
      "https://steamcommunity.com/sharedfiles/filedetails/?id=2162749089\n",
      "https://steamcommunity.com/sharedfiles/filedetails/?id=2018593688\n",
      "https://steamcommunity.com/sharedfiles/filedetails/?id=1363663797\n",
      "https://steamcommunity.com/sharedfiles/filedetails/?id=2478080991\n"
     ]
    }
   ],
   "source": [
    "\n",
    "# Importing BeautifulSoup class from the bs4 module \n",
    "from bs4 import BeautifulSoup\n",
    "  \n",
    "# Opening the html file\n",
    "# existing_op_falling_water.html\n",
    "# new_op_falling_water.html\n",
    "\n",
    "file_1_name = r\"Arma_3_Preset_10th_2024\"\n",
    "\n",
    "def ret_mod_names(html_name: str) -> None:\n",
    "  HTMLFile = open(html_name+\".html\", \"r\") \n",
    "    \n",
    "  # Reading the file \n",
    "  index = HTMLFile.read() \n",
    "    \n",
    "  # Creating a BeautifulSoup object and specifying the parser \n",
    "  S = BeautifulSoup(index, 'lxml') \n",
    "    \n",
    "  # Using the find_all method to find all elements of a tag \n",
    "  with open(html_name + '.txt', 'w') as f:\n",
    "    for tag in S.find_all('a', {'data-type': 'Link'}): \n",
    "        # f.write(f'{tag.text}\\n')\n",
    "      print(tag.text)\n",
    "  \n",
    "  return None\n",
    "\n",
    "ret_mod_names(file_1_name)\n",
    "\n",
    "# file_1_txt = open(file_1_name+\".txt\",\"r\")\n"
   ]
  }
 ],
 "metadata": {
  "kernelspec": {
   "display_name": "venv",
   "language": "python",
   "name": "python3"
  },
  "language_info": {
   "codemirror_mode": {
    "name": "ipython",
    "version": 3
   },
   "file_extension": ".py",
   "mimetype": "text/x-python",
   "name": "python",
   "nbconvert_exporter": "python",
   "pygments_lexer": "ipython3",
   "version": "3.12.1"
  }
 },
 "nbformat": 4,
 "nbformat_minor": 2
}
